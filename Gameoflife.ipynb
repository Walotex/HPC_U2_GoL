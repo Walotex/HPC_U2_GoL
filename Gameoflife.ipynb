{
 "cells": [
  {
   "cell_type": "code",
   "execution_count": null,
   "metadata": {},
   "outputs": [],
   "source": [
    "!pip install jupyter cython matplotlib"
   ]
  },
  {
   "cell_type": "code",
   "execution_count": 9,
   "metadata": {},
   "outputs": [],
   "source": [
    "import time\n",
    "import subprocess\n",
    "\n",
    "# Función para ejecutar un archivo Cython y medir el tiempo de ejecución\n",
    "def run_cython(file_path):\n",
    "    start_time = time.time()\n",
    "    subprocess.run([\"cython\", file_path])\n",
    "    end_time = time.time()\n",
    "    execution_time = end_time - start_time\n",
    "    return execution_time\n",
    "\n",
    "# Función para ejecutar un archivo Python y medir el tiempo de ejecución\n",
    "def run_python(file_path):\n",
    "    start_time = time.time()\n",
    "    subprocess.run([\"python\", file_path])\n",
    "    end_time = time.time()\n",
    "    execution_time = end_time - start_time\n",
    "    return execution_time"
   ]
  },
  {
   "cell_type": "code",
   "execution_count": 10,
   "metadata": {},
   "outputs": [
    {
     "name": "stdout",
     "output_type": "stream",
     "text": [
      "Tiempo de ejecución de Python_GoL.py: 0.08126521110534668\n",
      "Tiempos de ejecución de los archivos Cython: [0.7992167472839355, 0.908245325088501, 0.7398333549499512, 0.7276835441589355]\n"
     ]
    }
   ],
   "source": [
    "# Rutas de los archivos\n",
    "python_file = \"C:\\\\Users\\\\HP OMEN\\\\Downloads\\\\Unit2HPC\\\\Python_GoL.py\"\n",
    "cython_files = [\n",
    "    \"C:\\\\Users\\\\HP OMEN\\\\Downloads\\\\Unit2HPC\\\\cython1_gol.c\",\n",
    "    \"C:\\\\Users\\\\HP OMEN\\\\Downloads\\\\Unit2HPC\\\\cython2_gol.c\",\n",
    "    \"C:\\\\Users\\\\HP OMEN\\\\Downloads\\\\Unit2HPC\\\\cython3_gol.c\",\n",
    "    \"C:\\\\Users\\\\HP OMEN\\\\Downloads\\\\Unit2HPC\\\\cython4_gol.c\"\n",
    "]\n",
    "\n",
    "# Ejecutar y medir el tiempo de ejecución de cada archivo\n",
    "python_execution_time = run_python(python_file)\n",
    "cython_execution_times = [run_cython(file) for file in cython_files]\n",
    "\n",
    "print(\"Tiempo de ejecución de Python_GoL.py:\", python_execution_time)\n",
    "print(\"Tiempos de ejecución de los archivos Cython:\", cython_execution_times)"
   ]
  },
  {
   "cell_type": "code",
   "execution_count": 17,
   "metadata": {},
   "outputs": [],
   "source": [
    "import timeit\n",
    "import numpy as np"
   ]
  },
  {
   "cell_type": "code",
   "execution_count": 23,
   "metadata": {},
   "outputs": [
    {
     "name": "stdout",
     "output_type": "stream",
     "text": [
      "16.023188900000605\n"
     ]
    }
   ],
   "source": [
    "def update(lattice):\n",
    "    box_length = len(lattice) - 2\n",
    "    lattice_new = [[0 for _ in range(box_length + 2)] for _ in range(box_length + 2)]\n",
    "    \n",
    "    for i in range(1, box_length + 1):\n",
    "        for j in range(1, box_length + 1):\n",
    "            lattice_new[i][j] = update_rule(lattice, i, j)\n",
    "    return lattice_new\n",
    "\n",
    "def update_rule(lattice, i, j):\n",
    "    n_neigh = lattice[i + 1][j] + lattice[i][j + 1] + lattice[i + 1][j + 1] + \\\n",
    "              lattice[i - 1][j] + lattice[i][j - 1] + lattice[i - 1][j - 1] + \\\n",
    "              lattice[i - 1][j + 1] + lattice[i + 1][j - 1]\n",
    "    \n",
    "    if (lattice[i][j] == 1) and (n_neigh in [2, 3]):\n",
    "        return 1\n",
    "    elif lattice[i][j] == 1:\n",
    "        return 0\n",
    "    elif (lattice[i][j] == 0) and (n_neigh == 3):\n",
    "        return 1\n",
    "    else:\n",
    "        return 0\n",
    "\n",
    "#mide el timepo de ejecucion cuando el box size es 300\n",
    "\n",
    "def main():\n",
    "    box_length = 300\n",
    "    lattice = np.random.randint(2, size=(box_length + 2, box_length + 2))\n",
    "    for _ in range(300):\n",
    "        lattice = update(lattice)\n",
    "    return lattice\n",
    "\n",
    "if __name__ == '__main__':\n",
    "    print(timeit.timeit(main, number=1))\n",
    "\n",
    "\n",
    "import csv\n",
    "with open('time.csv', mode='a') as file:\n",
    "    writer = csv.writer(file)\n",
    "    writer.writerow(['python', timeit.timeit(main, number=1)])"
   ]
  },
  {
   "cell_type": "code",
   "execution_count": 24,
   "metadata": {},
   "outputs": [
    {
     "name": "stdout",
     "output_type": "stream",
     "text": [
      "12.468079999999645\n"
     ]
    }
   ],
   "source": [
    "from cython1_gol import update as update_cython1\n",
    "\n",
    "def main():\n",
    "    box_length = 300\n",
    "    lattice = np.random.randint(2, size=(box_length + 2, box_length + 2))\n",
    "    for _ in range(300):\n",
    "        lattice = update_cython1(lattice)\n",
    "    return lattice\n",
    "\n",
    "\n",
    "if __name__ == '__main__':\n",
    "    print(timeit.timeit(main, number=1))\n",
    "    \n",
    "    \n",
    "#agregar el time en el archivo csv con el nombre de cython1\n",
    "\n",
    "import csv\n",
    "with open('time.csv', mode='a') as file:\n",
    "    writer = csv.writer(file)\n",
    "    writer.writerow(['cython1', timeit.timeit(main, number=1)])"
   ]
  },
  {
   "cell_type": "code",
   "execution_count": 25,
   "metadata": {},
   "outputs": [
    {
     "name": "stdout",
     "output_type": "stream",
     "text": [
      "5.920139900000322\n"
     ]
    }
   ],
   "source": [
    "from cython2_gol import update as update_cython2\n",
    "\n",
    "def main():\n",
    "    box_length = 300\n",
    "    lattice = np.random.randint(2, size=(box_length + 2, box_length + 2))\n",
    "    for _ in range(300):\n",
    "        lattice = update_cython2(lattice)\n",
    "    return lattice\n",
    "\n",
    "if __name__ == '__main__':\n",
    "    print(timeit.timeit(main, number=1))\n",
    "    \n",
    "    \n",
    "import csv\n",
    "with open('time.csv', mode='a') as file:\n",
    "    writer = csv.writer(file)\n",
    "    writer.writerow(['cython2', timeit.timeit(main, number=1)])"
   ]
  },
  {
   "cell_type": "code",
   "execution_count": 27,
   "metadata": {},
   "outputs": [
    {
     "name": "stdout",
     "output_type": "stream",
     "text": [
      "4.745043100000657\n"
     ]
    }
   ],
   "source": [
    "from cython3_gol import update as update_cython3\n",
    "\n",
    "def main():\n",
    "    box_length = 300\n",
    "    lattice = np.random.randint(2, size=(box_length + 2, box_length + 2))\n",
    "    for _ in range(300):\n",
    "        lattice = update_cython3(lattice)\n",
    "    return lattice\n",
    "    \n",
    "    \n",
    "if __name__ == '__main__':\n",
    "    print(timeit.timeit(main, number=1))\n",
    "    \n",
    "import csv\n",
    "with open('time.csv', mode='a') as file:\n",
    "    writer = csv.writer(file)\n",
    "    writer.writerow(['cython3', timeit.timeit(main, number=1)])"
   ]
  },
  {
   "cell_type": "code",
   "execution_count": 28,
   "metadata": {},
   "outputs": [
    {
     "name": "stdout",
     "output_type": "stream",
     "text": [
      "0.2917744999995193\n"
     ]
    }
   ],
   "source": [
    "from cython4_gol import update as update_cython4\n",
    "\n",
    "def main():\n",
    "    box_length = 300\n",
    "    lattice = np.random.randint(2, size=(box_length + 2, box_length + 2))\n",
    "    for _ in range(300):\n",
    "        lattice = update_cython4(lattice)\n",
    "    return lattice\n",
    "\n",
    "if __name__ == '__main__':\n",
    "    print(timeit.timeit(main, number=1))\n",
    "    \n",
    "    \n",
    "import csv\n",
    "with open('time.csv', mode='a') as file:\n",
    "    writer = csv.writer(file)\n",
    "    writer.writerow(['cython4', timeit.timeit(main, number=1)])"
   ]
  },
  {
   "cell_type": "code",
   "execution_count": 30,
   "metadata": {},
   "outputs": [
    {
     "data": {
      "image/png": "[encoded data removed]",
      "text/plain": [
       "<Figure size 1000x600 with 1 Axes>"
      ]
     },
     "metadata": {},
     "output_type": "display_data"
    }
   ],
   "source": [
    "import pandas as pd\n",
    "import matplotlib.pyplot as plt\n",
    "\n",
    "data = pd.read_csv('time.csv')\n",
    "\n",
    "labels = data.iloc[:, 0].tolist()\n",
    "labels.insert(0, 'python') \n",
    "times = data.iloc[:, 1].tolist()\n",
    "times.insert(0, 13.096366302000206)  \n",
    "\n",
    "# Creando la gráfica de barras\n",
    "plt.figure(figsize=(10, 6))\n",
    "plt.bar(labels, times, color='skyblue')\n",
    "plt.title('Comparación de Tiempos de Ejecución')\n",
    "plt.xlabel('Implementación')\n",
    "plt.ylabel('Tiempo (s)')\n",
    "plt.xticks(rotation=45)\n",
    "plt.tight_layout()\n",
    "\n",
    "# Mostrando la gráfica\n",
    "plt.show()"
   ]
  }
 ],
 "metadata": {
  "kernelspec": {
   "display_name": "Python 3",
   "language": "python",
   "name": "python3"
  },
  "language_info": {
   "codemirror_mode": {
    "name": "ipython",
    "version": 3
   },
   "file_extension": ".py",
   "mimetype": "text/x-python",
   "name": "python",
   "nbconvert_exporter": "python",
   "pygments_lexer": "ipython3",
   "version": "3.11.2"
  }
 },
 "nbformat": 4,
 "nbformat_minor": 2
}
